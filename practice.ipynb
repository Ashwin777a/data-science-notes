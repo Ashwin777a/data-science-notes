{
 "cells": [
  {
   "cell_type": "code",
   "execution_count": 1,
   "id": "a8cd3808",
   "metadata": {},
   "outputs": [
    {
     "name": "stdout",
     "output_type": "stream",
     "text": [
      "Grandparent's property\n",
      "Parent's car\n",
      "Child's bike\n"
     ]
    }
   ],
   "source": [
    "class Grandparent:\n",
    "    def property(self):\n",
    "        print(\"Grandparent's property\")\n",
    "\n",
    "class Parent(Grandparent):\n",
    "    def car(self):\n",
    "        print(\"Parent's car\")\n",
    "\n",
    "class Child(Parent):\n",
    "    def bike(self):\n",
    "        print(\"Child's bike\")\n",
    "\n",
    "c = Child()\n",
    "c.property()  # Grandparent\n",
    "c.car()       # Parent\n",
    "c.bike()      # Child\n"
   ]
  },
  {
   "cell_type": "code",
   "execution_count": null,
   "metadata": {},
   "outputs": [],
   "source": []
  },
  {
   "cell_type": "code",
   "execution_count": null,
   "metadata": {},
   "outputs": [],
   "source": []
  },
  {
   "cell_type": "code",
   "execution_count": null,
   "metadata": {},
   "outputs": [],
   "source": []
  },
  {
   "cell_type": "code",
   "execution_count": null,
   "id": "abcf3a7e",
   "metadata": {},
   "outputs": [],
   "source": [
    "in"
   ]
  },
  {
   "cell_type": "code",
   "execution_count": null,
   "metadata": {},
   "outputs": [],
   "source": []
  },
  {
   "cell_type": "code",
   "execution_count": null,
   "metadata": {},
   "outputs": [],
   "source": []
  },
  {
   "cell_type": "code",
   "execution_count": null,
   "metadata": {},
   "outputs": [],
   "source": []
  }
 ],
 "metadata": {
  "kernelspec": {
   "display_name": "Python 3",
   "language": "python",
   "name": "python3"
  },
  "language_info": {
   "codemirror_mode": {
    "name": "ipython",
    "version": 3
   },
   "file_extension": ".py",
   "mimetype": "text/x-python",
   "name": "python",
   "nbconvert_exporter": "python",
   "pygments_lexer": "ipython3",
   "version": "3.13.0"
  }
 },
 "nbformat": 4,
 "nbformat_minor": 5
}
